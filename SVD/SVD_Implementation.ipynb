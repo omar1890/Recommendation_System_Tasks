{
 "cells": [
  {
   "cell_type": "code",
   "execution_count": 1,
   "metadata": {},
   "outputs": [],
   "source": [
    "import pandas as pd\n",
    "import numpy as np"
   ]
  },
  {
   "cell_type": "code",
   "execution_count": 28,
   "metadata": {},
   "outputs": [
    {
     "data": {
      "text/plain": [
       "array([[ 5.,  1.,  3.,  5.],\n",
       "       [nan, nan, nan,  2.],\n",
       "       [ 4., nan,  3., nan]])"
      ]
     },
     "execution_count": 28,
     "metadata": {},
     "output_type": "execute_result"
    }
   ],
   "source": [
    "user_item_matrix = np.array([[5,1,3,5],[np.nan,np.nan,np.nan,2],[4,np.nan,3,np.nan]])\n",
    "user_item_matrix"
   ]
  },
  {
   "cell_type": "code",
   "execution_count": 29,
   "metadata": {},
   "outputs": [],
   "source": [
    "#Fill missing with zeros\n",
    "user_item_matrix = np.nan_to_num(user_item_matrix, nan=0.0)"
   ]
  },
  {
   "cell_type": "code",
   "execution_count": 30,
   "metadata": {},
   "outputs": [
    {
     "data": {
      "text/plain": [
       "((3, 3), (3,), (4, 4))"
      ]
     },
     "execution_count": 30,
     "metadata": {},
     "output_type": "execute_result"
    }
   ],
   "source": [
    "u,s,vt = np.linalg.svd(user_item_matrix)\n",
    "u.shape, s.shape , vt.shape"
   ]
  },
  {
   "cell_type": "markdown",
   "metadata": {},
   "source": [
    "# In case we use all latent features\n",
    "Prediction Matrix ~ M"
   ]
  },
  {
   "cell_type": "code",
   "execution_count": 34,
   "metadata": {},
   "outputs": [
    {
     "data": {
      "text/plain": [
       "(array([[ 5.00000000e+00,  1.00000000e+00,  3.00000000e+00,\n",
       "          5.00000000e+00],\n",
       "        [-9.46683961e-16,  5.07767737e-16, -7.84401048e-16,\n",
       "          2.00000000e+00],\n",
       "        [ 4.00000000e+00, -1.06674877e-16,  3.00000000e+00,\n",
       "         -8.12706237e-16]]),\n",
       " array([[5., 1., 3., 5.],\n",
       "        [0., 0., 0., 2.],\n",
       "        [4., 0., 3., 0.]]))"
      ]
     },
     "execution_count": 34,
     "metadata": {},
     "output_type": "execute_result"
    }
   ],
   "source": [
    "pred_ratings = np.dot(np.dot(u,np.diag(s)),vt[:3,:])\n",
    "pred_ratings,user_item_matrix"
   ]
  },
  {
   "cell_type": "code",
   "execution_count": 35,
   "metadata": {},
   "outputs": [
    {
     "data": {
      "text/plain": [
       "1.328803200636662e-29"
      ]
     },
     "execution_count": 35,
     "metadata": {},
     "output_type": "execute_result"
    }
   ],
   "source": [
    "# compute squared error\n",
    "sum_square_errs = np.sum(np.sum((user_item_matrix-pred_ratings)**2))\n",
    "sum_square_errs"
   ]
  },
  {
   "cell_type": "markdown",
   "metadata": {},
   "source": [
    "# Let's take a look at sigma matrix to choose options for Latent features"
   ]
  },
  {
   "cell_type": "code",
   "execution_count": 36,
   "metadata": {},
   "outputs": [
    {
     "data": {
      "text/plain": [
       "array([8.79824245, 3.3819105 , 0.39193263])"
      ]
     },
     "execution_count": 36,
     "metadata": {},
     "output_type": "execute_result"
    }
   ],
   "source": [
    "s"
   ]
  },
  {
   "cell_type": "code",
   "execution_count": 39,
   "metadata": {},
   "outputs": [
    {
     "data": {
      "text/plain": [
       "array([[ 4.96367759,  0.89036847,  3.05498184,  5.02189148],\n",
       "       [ 0.09443248,  0.28502456, -0.14294406,  1.94308563],\n",
       "       [ 4.04239448,  0.12795881,  2.93582675, -0.02555111]])"
      ]
     },
     "execution_count": 39,
     "metadata": {},
     "output_type": "execute_result"
    }
   ],
   "source": [
    "k = 2 \n",
    "pred_ratings = np.dot(np.dot(u[:,:k],np.diag(s[:k])),vt[:k,:])\n",
    "pred_ratings"
   ]
  },
  {
   "cell_type": "code",
   "execution_count": 40,
   "metadata": {},
   "outputs": [
    {
     "data": {
      "text/plain": [
       "0.15361118416557326"
      ]
     },
     "execution_count": 40,
     "metadata": {},
     "output_type": "execute_result"
    }
   ],
   "source": [
    "# compute squared error\n",
    "sum_square_errs = np.sum(np.sum((user_item_matrix-pred_ratings)**2))\n",
    "sum_square_errs"
   ]
  },
  {
   "cell_type": "markdown",
   "metadata": {},
   "source": [
    "# My final comment, when we use all latent features it results some sort of overfitting, \n",
    "## sigma matrix's eigen values help us choose appropriate value for k"
   ]
  }
 ],
 "metadata": {
  "interpreter": {
   "hash": "485a7b116eb3a8ad65ddd739a567e9f72c40a9d95ef486baa58e0ff3eb709032"
  },
  "kernelspec": {
   "display_name": "Python 3.7.12 64-bit ('base': conda)",
   "language": "python",
   "name": "python3"
  },
  "language_info": {
   "codemirror_mode": {
    "name": "ipython",
    "version": 3
   },
   "file_extension": ".py",
   "mimetype": "text/x-python",
   "name": "python",
   "nbconvert_exporter": "python",
   "pygments_lexer": "ipython3",
   "version": "3.7.12"
  },
  "orig_nbformat": 4
 },
 "nbformat": 4,
 "nbformat_minor": 2
}
